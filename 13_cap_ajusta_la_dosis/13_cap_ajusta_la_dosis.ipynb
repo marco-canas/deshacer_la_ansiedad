{
 "cells": [
  {
   "cell_type": "markdown",
   "metadata": {},
   "source": []
  },
  {
   "cell_type": "markdown",
   "metadata": {},
   "source": []
  },
  {
   "cell_type": "markdown",
   "metadata": {},
   "source": [
    "# Capítulo 13\n",
    "\n",
    "## Ajusta la dosis: El experimento con chocolate de Dana Small  \n"
   ]
  },
  {
   "cell_type": "markdown",
   "metadata": {},
   "source": [
    "\n",
    "Uno de mis experimentos favoritos en neurociencia lo realizó una amiga mía, la doctora Dana Small, neurocientífica e investigadora alimentaria de Yale. \n",
    "\n"
   ]
  },
  {
   "cell_type": "markdown",
   "metadata": {},
   "source": [
    "En su trabajo, diseña experimentos para descubrir cómo influyen en el cerebro los diferentes alimentos y fuentes de calorías. "
   ]
  },
  {
   "cell_type": "markdown",
   "metadata": {},
   "source": [
    "Y para ello ha creado todo tipo de artilugios delirantes para introducir cualquier cosa -desde batidos de chocolate a diferentes olores- en sujetos sometidos a un escáner cerebral (imagina que tienes a un participante en la investigación echado en un escáner de resonancia magnética y tú estás en la habitaciión de control a seis metros, intentando inyectar diferentes tipos de batidos de chocolate en su boca mientras el sujeto mantiene la cabeza inmóvil. ¡Noes tarea fácil!). "
   ]
  },
  {
   "cell_type": "markdown",
   "metadata": {},
   "source": []
  },
  {
   "cell_type": "code",
   "execution_count": null,
   "metadata": {},
   "outputs": [],
   "source": []
  },
  {
   "cell_type": "code",
   "execution_count": null,
   "metadata": {},
   "outputs": [],
   "source": []
  },
  {
   "cell_type": "code",
   "execution_count": null,
   "metadata": {},
   "outputs": [],
   "source": []
  }
 ],
 "metadata": {
  "language_info": {
   "name": "python"
  },
  "orig_nbformat": 4
 },
 "nbformat": 4,
 "nbformat_minor": 2
}
